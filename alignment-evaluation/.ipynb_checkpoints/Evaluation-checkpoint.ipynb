{
 "cells": [
  {
   "cell_type": "code",
   "execution_count": 10,
   "metadata": {},
   "outputs": [],
   "source": [
    "import json, os, pandas as pd\n",
    "import numpy as np\n",
    "from collections import defaultdict\n",
    "import matplotlib.pyplot as plt\n",
    "import re\n",
    "pd.set_option('display.max_rows', None)\n",
    "\n",
    "SMALL_SIZE = 16\n",
    "MEDIUM_SIZE = 18\n",
    "BIGGER_SIZE = 20\n",
    "\n",
    "plt.rc('font', size=SMALL_SIZE)          # controls default text sizes\n",
    "plt.rc('axes', titlesize=SMALL_SIZE)     # fontsize of the axes title\n",
    "plt.rc('axes', labelsize=MEDIUM_SIZE)    # fontsize of the x and y labels\n",
    "plt.rc('xtick', labelsize=SMALL_SIZE)    # fontsize of the tick labels\n",
    "plt.rc('ytick', labelsize=SMALL_SIZE)    # fontsize of the tick labels\n",
    "plt.rc('legend', fontsize=SMALL_SIZE)    # legend fontsize\n",
    "plt.rc('figure', titlesize=BIGGER_SIZE)  # fontsize of the figure title\n",
    "\n",
    "def set_axis_style(ax, labels, x_label, y_label):\n",
    "    ax.get_xaxis().set_tick_params(direction='out')\n",
    "    ax.xaxis.set_ticks_position('bottom')\n",
    "    ax.set_xticks(np.arange(1, len(labels) + 1))\n",
    "    ax.set_xticklabels(labels)\n",
    "    ax.set_xlim(0.25, len(labels) + 0.75)\n",
    "    ax.set_xlabel(x_label)\n",
    "    ax.set_ylabel(y_label)\n",
    "    \n",
    "def flatten(nested_list):\n",
    "    return [item for sublist in nested_list for item in sublist]\n",
    "\n",
    "def unzip(zipped_data):\n",
    "    return list(zip(*zipped_data))\n",
    "\n",
    "\n",
    "def highlight_max(data, color='yellow'):\n",
    "    '''\n",
    "    highlight the maximum in a Series or DataFrame\n",
    "    '''\n",
    "    attr = 'background-color: {}'.format(color)\n",
    "    #remove % and cast to float\n",
    "    data = data.replace('%','', regex=True).astype(float)\n",
    "    if data.ndim == 1:  # Series from .apply(axis=0) or axis=1\n",
    "        is_max = data == data.max()\n",
    "        return [attr if v else '' for v in is_max]\n",
    "    else:  # from .apply(axis=None)\n",
    "        is_max = data == data.max().max()\n",
    "        return pd.DataFrame(np.where(is_max, attr, ''),\n",
    "                            index=data.index, columns=data.columns)"
   ]
  },
  {
   "cell_type": "code",
   "execution_count": 11,
   "metadata": {},
   "outputs": [],
   "source": [
    "results_sop = []\n",
    "results_cs = []\n",
    "results_time = []\n",
    "for program in os.listdir(\"../evaluation-data/\"):\n",
    "    if \"max-dim\" in program:\n",
    "        continue\n",
    "    results_for_prog_sop = []\n",
    "    results_for_prog_cs = []\n",
    "    results_for_prog_time = []\n",
    "\n",
    "    for ref in os.listdir(f\"../evaluation-data/{program}\"):\n",
    "        with open(f'../evaluation-data/{program}/{ref}/aggr.json') as f:\n",
    "            data = json.load(f)\n",
    "            results_for_prog_sop.append(data['sum_of_pairs'])\n",
    "            results_for_prog_cs.append(data['column_score'])\n",
    "            results_for_prog_time.append(data['time_ms'])\n",
    "    results_sop.append((program, results_for_prog_sop))\n",
    "    results_cs.append((program, results_for_prog_cs))\n",
    "    results_time.append((program, results_for_prog_time))    "
   ]
  },
  {
   "cell_type": "code",
   "execution_count": 12,
   "metadata": {},
   "outputs": [
    {
     "ename": "TypeError",
     "evalue": "Argument 'objects' has incorrect type (expected numpy.ndarray, got list)",
     "output_type": "error",
     "traceback": [
      "\u001b[0;31m--------------------------------------------------------------\u001b[0m",
      "\u001b[0;31mTypeError\u001b[0m                    Traceback (most recent call last)",
      "\u001b[0;32m<ipython-input-12-12680d6cdb50>\u001b[0m in \u001b[0;36m<module>\u001b[0;34m()\u001b[0m\n\u001b[1;32m      1\u001b[0m \u001b[0mcolumn_mapping\u001b[0m \u001b[0;34m=\u001b[0m \u001b[0;34m[\u001b[0m\u001b[0;34m'RV40'\u001b[0m\u001b[0;34m,\u001b[0m \u001b[0;34m'RV11'\u001b[0m\u001b[0;34m,\u001b[0m \u001b[0;34m'RV50'\u001b[0m\u001b[0;34m,\u001b[0m \u001b[0;34m'RV12'\u001b[0m\u001b[0;34m,\u001b[0m \u001b[0;34m'RV20'\u001b[0m\u001b[0;34m,\u001b[0m \u001b[0;34m'RV30'\u001b[0m\u001b[0;34m]\u001b[0m\u001b[0;34m\u001b[0m\u001b[0m\n\u001b[0;32m----> 2\u001b[0;31m \u001b[0mdf_sop\u001b[0m \u001b[0;34m=\u001b[0m \u001b[0mpd\u001b[0m\u001b[0;34m.\u001b[0m\u001b[0mDataFrame\u001b[0m\u001b[0;34m.\u001b[0m\u001b[0mfrom_items\u001b[0m\u001b[0;34m(\u001b[0m\u001b[0mresults_sop\u001b[0m\u001b[0;34m,\u001b[0m \u001b[0mcolumns\u001b[0m\u001b[0;34m=\u001b[0m\u001b[0mcolumn_mapping\u001b[0m\u001b[0;34m,\u001b[0m \u001b[0morient\u001b[0m\u001b[0;34m=\u001b[0m\u001b[0;34m'index'\u001b[0m\u001b[0;34m)\u001b[0m\u001b[0;34m\u001b[0m\u001b[0m\n\u001b[0m\u001b[1;32m      3\u001b[0m \u001b[0mdf_cs\u001b[0m \u001b[0;34m=\u001b[0m \u001b[0mpd\u001b[0m\u001b[0;34m.\u001b[0m\u001b[0mDataFrame\u001b[0m\u001b[0;34m.\u001b[0m\u001b[0mfrom_items\u001b[0m\u001b[0;34m(\u001b[0m\u001b[0mresults_cs\u001b[0m\u001b[0;34m,\u001b[0m \u001b[0mcolumns\u001b[0m\u001b[0;34m=\u001b[0m\u001b[0mcolumn_mapping\u001b[0m\u001b[0;34m,\u001b[0m \u001b[0morient\u001b[0m\u001b[0;34m=\u001b[0m\u001b[0;34m'index'\u001b[0m\u001b[0;34m)\u001b[0m\u001b[0;34m\u001b[0m\u001b[0m\n\u001b[1;32m      4\u001b[0m \u001b[0mdf_time\u001b[0m \u001b[0;34m=\u001b[0m \u001b[0mpd\u001b[0m\u001b[0;34m.\u001b[0m\u001b[0mDataFrame\u001b[0m\u001b[0;34m.\u001b[0m\u001b[0mfrom_items\u001b[0m\u001b[0;34m(\u001b[0m\u001b[0mresults_time\u001b[0m\u001b[0;34m,\u001b[0m \u001b[0mcolumns\u001b[0m\u001b[0;34m=\u001b[0m\u001b[0mcolumn_mapping\u001b[0m\u001b[0;34m,\u001b[0m \u001b[0morient\u001b[0m\u001b[0;34m=\u001b[0m\u001b[0;34m'index'\u001b[0m\u001b[0;34m)\u001b[0m\u001b[0;34m\u001b[0m\u001b[0m\n",
      "\u001b[0;32m~/.local/lib/python3.6/site-packages/pandas/core/frame.py\u001b[0m in \u001b[0;36mfrom_items\u001b[0;34m(cls, items, columns, orient)\u001b[0m\n\u001b[1;32m   1285\u001b[0m \u001b[0;34m\u001b[0m\u001b[0m\n\u001b[1;32m   1286\u001b[0m             \u001b[0marr\u001b[0m \u001b[0;34m=\u001b[0m \u001b[0mnp\u001b[0m\u001b[0;34m.\u001b[0m\u001b[0marray\u001b[0m\u001b[0;34m(\u001b[0m\u001b[0mvalues\u001b[0m\u001b[0;34m,\u001b[0m \u001b[0mdtype\u001b[0m\u001b[0;34m=\u001b[0m\u001b[0mobject\u001b[0m\u001b[0;34m)\u001b[0m\u001b[0;34m.\u001b[0m\u001b[0mT\u001b[0m\u001b[0;34m\u001b[0m\u001b[0m\n\u001b[0;32m-> 1287\u001b[0;31m             \u001b[0mdata\u001b[0m \u001b[0;34m=\u001b[0m \u001b[0;34m[\u001b[0m\u001b[0mlib\u001b[0m\u001b[0;34m.\u001b[0m\u001b[0mmaybe_convert_objects\u001b[0m\u001b[0;34m(\u001b[0m\u001b[0mv\u001b[0m\u001b[0;34m)\u001b[0m \u001b[0;32mfor\u001b[0m \u001b[0mv\u001b[0m \u001b[0;32min\u001b[0m \u001b[0marr\u001b[0m\u001b[0;34m]\u001b[0m\u001b[0;34m\u001b[0m\u001b[0m\n\u001b[0m\u001b[1;32m   1288\u001b[0m             \u001b[0;32mreturn\u001b[0m \u001b[0mcls\u001b[0m\u001b[0;34m.\u001b[0m\u001b[0m_from_arrays\u001b[0m\u001b[0;34m(\u001b[0m\u001b[0mdata\u001b[0m\u001b[0;34m,\u001b[0m \u001b[0mcolumns\u001b[0m\u001b[0;34m,\u001b[0m \u001b[0mkeys\u001b[0m\u001b[0;34m)\u001b[0m\u001b[0;34m\u001b[0m\u001b[0m\n\u001b[1;32m   1289\u001b[0m         \u001b[0;32melse\u001b[0m\u001b[0;34m:\u001b[0m  \u001b[0;31m# pragma: no cover\u001b[0m\u001b[0;34m\u001b[0m\u001b[0m\n",
      "\u001b[0;32m~/.local/lib/python3.6/site-packages/pandas/core/frame.py\u001b[0m in \u001b[0;36m<listcomp>\u001b[0;34m(.0)\u001b[0m\n\u001b[1;32m   1285\u001b[0m \u001b[0;34m\u001b[0m\u001b[0m\n\u001b[1;32m   1286\u001b[0m             \u001b[0marr\u001b[0m \u001b[0;34m=\u001b[0m \u001b[0mnp\u001b[0m\u001b[0;34m.\u001b[0m\u001b[0marray\u001b[0m\u001b[0;34m(\u001b[0m\u001b[0mvalues\u001b[0m\u001b[0;34m,\u001b[0m \u001b[0mdtype\u001b[0m\u001b[0;34m=\u001b[0m\u001b[0mobject\u001b[0m\u001b[0;34m)\u001b[0m\u001b[0;34m.\u001b[0m\u001b[0mT\u001b[0m\u001b[0;34m\u001b[0m\u001b[0m\n\u001b[0;32m-> 1287\u001b[0;31m             \u001b[0mdata\u001b[0m \u001b[0;34m=\u001b[0m \u001b[0;34m[\u001b[0m\u001b[0mlib\u001b[0m\u001b[0;34m.\u001b[0m\u001b[0mmaybe_convert_objects\u001b[0m\u001b[0;34m(\u001b[0m\u001b[0mv\u001b[0m\u001b[0;34m)\u001b[0m \u001b[0;32mfor\u001b[0m \u001b[0mv\u001b[0m \u001b[0;32min\u001b[0m \u001b[0marr\u001b[0m\u001b[0;34m]\u001b[0m\u001b[0;34m\u001b[0m\u001b[0m\n\u001b[0m\u001b[1;32m   1288\u001b[0m             \u001b[0;32mreturn\u001b[0m \u001b[0mcls\u001b[0m\u001b[0;34m.\u001b[0m\u001b[0m_from_arrays\u001b[0m\u001b[0;34m(\u001b[0m\u001b[0mdata\u001b[0m\u001b[0;34m,\u001b[0m \u001b[0mcolumns\u001b[0m\u001b[0;34m,\u001b[0m \u001b[0mkeys\u001b[0m\u001b[0;34m)\u001b[0m\u001b[0;34m\u001b[0m\u001b[0m\n\u001b[1;32m   1289\u001b[0m         \u001b[0;32melse\u001b[0m\u001b[0;34m:\u001b[0m  \u001b[0;31m# pragma: no cover\u001b[0m\u001b[0;34m\u001b[0m\u001b[0m\n",
      "\u001b[0;31mTypeError\u001b[0m: Argument 'objects' has incorrect type (expected numpy.ndarray, got list)"
     ]
    }
   ],
   "source": [
    "column_mapping = ['RV40', 'RV11', 'RV50', 'RV12', 'RV20', 'RV30']\n",
    "df_sop = pd.DataFrame.from_items(results_sop, columns=column_mapping, orient='index')\n",
    "df_cs = pd.DataFrame.from_items(results_cs, columns=column_mapping, orient='index')\n",
    "df_time = pd.DataFrame.from_items(results_time, columns=column_mapping, orient='index')"
   ]
  },
  {
   "cell_type": "code",
   "execution_count": 13,
   "metadata": {},
   "outputs": [
    {
     "ename": "NameError",
     "evalue": "name 'df_sop' is not defined",
     "output_type": "error",
     "traceback": [
      "\u001b[0;31m--------------------------------------------------------------\u001b[0m",
      "\u001b[0;31mNameError\u001b[0m                    Traceback (most recent call last)",
      "\u001b[0;32m<ipython-input-13-cc01b42ded50>\u001b[0m in \u001b[0;36m<module>\u001b[0;34m()\u001b[0m\n\u001b[0;32m----> 1\u001b[0;31m \u001b[0mdf_sop\u001b[0m \u001b[0;34m=\u001b[0m \u001b[0mdf_sop\u001b[0m\u001b[0;34m[\u001b[0m\u001b[0msorted\u001b[0m\u001b[0;34m(\u001b[0m\u001b[0mdf_sop\u001b[0m\u001b[0;34m.\u001b[0m\u001b[0mcolumns\u001b[0m\u001b[0;34m.\u001b[0m\u001b[0mtolist\u001b[0m\u001b[0;34m(\u001b[0m\u001b[0;34m)\u001b[0m\u001b[0;34m)\u001b[0m\u001b[0;34m]\u001b[0m\u001b[0;34m.\u001b[0m\u001b[0msort_index\u001b[0m\u001b[0;34m(\u001b[0m\u001b[0;34m)\u001b[0m\u001b[0;34m\u001b[0m\u001b[0m\n\u001b[0m\u001b[1;32m      2\u001b[0m \u001b[0mdf_cs\u001b[0m \u001b[0;34m=\u001b[0m \u001b[0mdf_cs\u001b[0m\u001b[0;34m[\u001b[0m\u001b[0msorted\u001b[0m\u001b[0;34m(\u001b[0m\u001b[0mdf_cs\u001b[0m\u001b[0;34m.\u001b[0m\u001b[0mcolumns\u001b[0m\u001b[0;34m.\u001b[0m\u001b[0mtolist\u001b[0m\u001b[0;34m(\u001b[0m\u001b[0;34m)\u001b[0m\u001b[0;34m)\u001b[0m\u001b[0;34m]\u001b[0m\u001b[0;34m.\u001b[0m\u001b[0msort_index\u001b[0m\u001b[0;34m(\u001b[0m\u001b[0;34m)\u001b[0m\u001b[0;34m\u001b[0m\u001b[0m\n\u001b[1;32m      3\u001b[0m \u001b[0mdf_time\u001b[0m \u001b[0;34m=\u001b[0m \u001b[0mdf_time\u001b[0m\u001b[0;34m[\u001b[0m\u001b[0msorted\u001b[0m\u001b[0;34m(\u001b[0m\u001b[0mdf_time\u001b[0m\u001b[0;34m.\u001b[0m\u001b[0mcolumns\u001b[0m\u001b[0;34m.\u001b[0m\u001b[0mtolist\u001b[0m\u001b[0;34m(\u001b[0m\u001b[0;34m)\u001b[0m\u001b[0;34m)\u001b[0m\u001b[0;34m]\u001b[0m\u001b[0;34m.\u001b[0m\u001b[0msort_index\u001b[0m\u001b[0;34m(\u001b[0m\u001b[0;34m)\u001b[0m\u001b[0;34m\u001b[0m\u001b[0m\n",
      "\u001b[0;31mNameError\u001b[0m: name 'df_sop' is not defined"
     ]
    }
   ],
   "source": [
    "df_sop = df_sop[sorted(df_sop.columns.tolist())].sort_index()\n",
    "df_cs = df_cs[sorted(df_cs.columns.tolist())].sort_index()\n",
    "df_time = df_time[sorted(df_time.columns.tolist())].sort_index()"
   ]
  },
  {
   "cell_type": "code",
   "execution_count": null,
   "metadata": {},
   "outputs": [],
   "source": [
    "results_sop_detail = {}\n",
    "results_cs_detail = {}\n",
    "results_time_detail = {}\n",
    "for program in os.listdir(\"../evaluation-data/\"):\n",
    "#     if \"Mafft-Fast\" not in program and \"Dialign\" not in program and \"spam-align-w-3_d-10\" not in program:\n",
    "#         continue\n",
    "    results_for_prog_sop = defaultdict(list)\n",
    "    results_for_prog_cs = defaultdict(list)\n",
    "    results_for_prog_time = defaultdict(list)\n",
    "\n",
    "    for ref in os.listdir(f\"../evaluation-data/{program}\"):\n",
    "        for file in os.listdir(f\"../evaluation-data/{program}/{ref}\"):\n",
    "            if not file.endswith(\"json\") or \"aggr\" in file:\n",
    "                continue\n",
    "            with open(f\"../evaluation-data/{program}/{ref}/{file}\") as f:\n",
    "                data = json.load(f)\n",
    "                results_for_prog_sop[ref].append(data['sum_of_pairs'])\n",
    "                results_for_prog_cs[ref].append(data['column_score'])\n",
    "                results_for_prog_time[ref].append(data['time_ms'])\n",
    "\n",
    "    results_sop_detail[program] = results_for_prog_sop\n",
    "    results_cs_detail[program] = results_for_prog_cs\n",
    "    results_time_detail[program] = results_for_prog_time"
   ]
  },
  {
   "cell_type": "markdown",
   "metadata": {},
   "source": [
    "# Comparison of SoP and CS scores between Dialign, Mafft-Fast and spam-align\n",
    "\n",
    "Spam-align has been run with a pattern set of 5 patterns with a weight of 3 and len of 13 each. This pattern set resulted in the best results on the balibase dataset.\n",
    "\n",
    "Mafft-Fast stands for a call of Mafft (v7.310) with the arguments `--quiet --retree 1 --maxiterate 0`  representing the strategy `FFT-NS-1 (very fast; recommended for >2000 sequences; progressive method with a rough guide tree)`.  \n",
    "Mafft-Accurate in the later tables stands for a call with the arguments `--quiet --localpair --maxiterate 1000` representig the strategy `L-INS-i (probably most accurate; recommended for <200 sequences; iterative refinement method incorporating local pairwise alignment information)`"
   ]
  },
  {
   "cell_type": "code",
   "execution_count": null,
   "metadata": {
    "scrolled": false
   },
   "outputs": [],
   "source": [
    "\n",
    "def set_box_color(bp, color):\n",
    "    plt.setp(bp['boxes'], color=color)\n",
    "    plt.setp(bp['whiskers'], color=color)\n",
    "    plt.setp(bp['caps'], color=color)\n",
    "    plt.setp(bp['medians'], color=color)\n",
    "\n",
    "def plot_detail_data(data, filename):\n",
    "    ticks, data_mafft = unzip(sorted(data['Mafft-Fast'].items()))\n",
    "    data_dialign = unzip(sorted(data['Dialign'].items()))[1]\n",
    "    data_spam = unzip(sorted(data['spam-align-w-3_d-10'].items()))[1]\n",
    "    \n",
    "    fig = plt.figure(figsize=(10,7))\n",
    "    bp1 = plt.boxplot(data_mafft, positions=np.array(range(len(data_mafft)))*3.0-0.7, sym='', widths=0.6)\n",
    "    bp2 = plt.boxplot(data_dialign, positions=np.array(range(len(data_dialign)))*3.0, sym='', widths=0.6)\n",
    "    bp3 = plt.boxplot(data_spam, positions=np.array(range(len(data_spam)))*3.0+0.7, sym='', widths=0.6)\n",
    "    \n",
    "    set_box_color(bp1, '#D7191C') # colors are from http://colorbrewer2.org/\n",
    "    set_box_color(bp2, '#2C7BB6')\n",
    "    set_box_color(bp3, '#31a354')\n",
    "\n",
    "    plt.plot([], c='#D7191C', label='Mafft-Fast')\n",
    "    plt.plot([], c='#2C7BB6', label='Dialign')\n",
    "    plt.plot([], c='#31a354', label='Spam-Align')\n",
    "    plt.legend()\n",
    "    \n",
    "    plt.xticks(range(0, len(ticks) * 3, 3), ticks)\n",
    "    plt.xlim(-3, len(ticks)*3)\n",
    "    plt.tight_layout()\n",
    "    plt.savefig(filename)\n",
    "plot_detail_data(results_sop_detail, 'sop-boxplot.png')\n",
    "plot_detail_data(results_cs_detail, 'cs-boxplot.png')"
   ]
  },
  {
   "cell_type": "markdown",
   "metadata": {},
   "source": [
    "## Sum of pairs score"
   ]
  },
  {
   "cell_type": "code",
   "execution_count": null,
   "metadata": {},
   "outputs": [],
   "source": [
    "df_sop"
   ]
  },
  {
   "cell_type": "code",
   "execution_count": null,
   "metadata": {},
   "outputs": [],
   "source": [
    "df_sop.loc['spam-align-w-2_d-10':].style.apply(highlight_max)"
   ]
  },
  {
   "cell_type": "code",
   "execution_count": null,
   "metadata": {
    "scrolled": false
   },
   "outputs": [],
   "source": [
    "df_sop_best = df_sop.loc[['Dialign','Mafft-Accurate', 'Mafft-Fast','spam-align-w-3_d-10'],:]\n",
    "with open('df_sop_best.tex', 'w') as f:\n",
    "    f.writelines(df_sop_best.to_latex())"
   ]
  },
  {
   "cell_type": "markdown",
   "metadata": {},
   "source": [
    "## Column score"
   ]
  },
  {
   "cell_type": "code",
   "execution_count": null,
   "metadata": {
    "scrolled": false
   },
   "outputs": [],
   "source": [
    "df_cs"
   ]
  },
  {
   "cell_type": "markdown",
   "metadata": {},
   "source": [
    "## Execution time in ms"
   ]
  },
  {
   "cell_type": "code",
   "execution_count": null,
   "metadata": {
    "scrolled": false
   },
   "outputs": [],
   "source": [
    "df_time"
   ]
  },
  {
   "cell_type": "code",
   "execution_count": null,
   "metadata": {},
   "outputs": [],
   "source": [
    "def aggr_data(data):\n",
    "    aggr_data = defaultdict(dict)\n",
    "    for key, values in data.items():\n",
    "        m = re.search('spam-align-w-(?P<w>\\d)_d-(?P<d>\\d+)', key)\n",
    "        if m is None:\n",
    "            continue\n",
    "        w = int(m.group('w'))\n",
    "        d = int(m.group('d'))\n",
    "        aggr = np.mean(flatten(values.values()))\n",
    "        aggr_data[w][d] = aggr \n",
    "    return aggr_data\n",
    "sop_scores = aggr_data(results_sop_detail)\n",
    "cs_scores = aggr_data(results_cs_detail)\n",
    "time_aggr = aggr_data(results_time_detail)"
   ]
  },
  {
   "cell_type": "code",
   "execution_count": null,
   "metadata": {},
   "outputs": [],
   "source": [
    "plt.figure(figsize=(10,7))\n",
    "for weight, data in sorted(sop_scores.items()):\n",
    "    x, y = unzip(sorted(data.items()))\n",
    "    plt.plot(x, y,label=weight)\n",
    "plt.xlabel('# don\\'t care positions')\n",
    "plt.ylabel('SoP score')\n",
    "plt.legend(title='weight')"
   ]
  },
  {
   "cell_type": "code",
   "execution_count": null,
   "metadata": {},
   "outputs": [],
   "source": [
    "plt.figure(figsize=(10,7))\n",
    "for weight, data in sorted(cs_scores.items()):\n",
    "    x, y = unzip(sorted(data.items()))\n",
    "    plt.plot(x, y,label=weight)\n",
    "plt.xlabel('# don\\'t care positions')\n",
    "plt.ylabel('Column score')\n",
    "plt.legend(title='weight')"
   ]
  },
  {
   "cell_type": "code",
   "execution_count": null,
   "metadata": {},
   "outputs": [],
   "source": [
    "plt.figure(figsize=(10,7))\n",
    "for weight, data in sorted(time_aggr.items()):\n",
    "    x, y = unzip(sorted(data.items()))\n",
    "    plt.plot(x, y,label=weight)\n",
    "plt.xlabel('# don\\'t care positions')\n",
    "plt.ylabel('Time in ms')\n",
    "plt.legend(title='weight')"
   ]
  },
  {
   "cell_type": "code",
   "execution_count": null,
   "metadata": {},
   "outputs": [],
   "source": []
  },
  {
   "cell_type": "code",
   "execution_count": null,
   "metadata": {},
   "outputs": [],
   "source": []
  },
  {
   "cell_type": "code",
   "execution_count": null,
   "metadata": {},
   "outputs": [],
   "source": []
  },
  {
   "cell_type": "code",
   "execution_count": null,
   "metadata": {},
   "outputs": [],
   "source": []
  },
  {
   "cell_type": "code",
   "execution_count": null,
   "metadata": {},
   "outputs": [],
   "source": []
  }
 ],
 "metadata": {
  "kernelspec": {
   "display_name": "Python 3.6",
   "language": "python",
   "name": "python3.6"
  },
  "language_info": {
   "codemirror_mode": {
    "name": "ipython",
    "version": 3
   },
   "file_extension": ".py",
   "mimetype": "text/x-python",
   "name": "python",
   "nbconvert_exporter": "python",
   "pygments_lexer": "ipython3",
   "version": "3.6.2"
  }
 },
 "nbformat": 4,
 "nbformat_minor": 2
}
